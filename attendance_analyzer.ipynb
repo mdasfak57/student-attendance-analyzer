{
 "cells": [
  {
   "cell_type": "markdown",
   "id": "225040c0",
   "metadata": {},
   "source": [
    "# 📊 Student Attendance Analyzer\n",
    "\n",
    "This notebook analyzes student attendance data to generate useful insights."
   ]
  },
  {
   "cell_type": "code",
   "execution_count": null,
   "id": "e679ee69",
   "metadata": {},
   "outputs": [],
   "source": [
    "\n",
    "import pandas as pd\n",
    "import matplotlib.pyplot as plt\n",
    "import seaborn as sns\n",
    "\n",
    "# Load data\n",
    "df = pd.read_csv(\"attendance_data.csv\")\n",
    "df[\"Date\"] = pd.to_datetime(df[\"Date\"])\n",
    "df.head()\n"
   ]
  },
  {
   "cell_type": "code",
   "execution_count": null,
   "id": "9a91267b",
   "metadata": {},
   "outputs": [],
   "source": [
    "\n",
    "# Total attendance records and unique students\n",
    "print(\"Total Records:\", len(df))\n",
    "print(\"Total Students:\", df['Student_ID'].nunique())\n"
   ]
  },
  {
   "cell_type": "code",
   "execution_count": null,
   "id": "635770b8",
   "metadata": {},
   "outputs": [],
   "source": [
    "\n",
    "# Calculate attendance percentage\n",
    "attendance_summary = df.groupby(['Student_ID', 'Name'])['Status'].value_counts().unstack().fillna(0)\n",
    "attendance_summary['Attendance %'] = (attendance_summary['Present'] / (attendance_summary['Present'] + attendance_summary['Absent'])) * 100\n",
    "attendance_summary = attendance_summary.reset_index()\n",
    "attendance_summary\n"
   ]
  },
  {
   "cell_type": "code",
   "execution_count": null,
   "id": "57b70104",
   "metadata": {},
   "outputs": [],
   "source": [
    "\n",
    "# Bar plot\n",
    "plt.figure(figsize=(10,6))\n",
    "sns.barplot(x='Name', y='Attendance %', data=attendance_summary, palette='viridis')\n",
    "plt.title(\"Attendance Percentage per Student\")\n",
    "plt.ylim(0, 100)\n",
    "plt.ylabel(\"Attendance %\")\n",
    "plt.xlabel(\"Student Name\")\n",
    "plt.xticks(rotation=45)\n",
    "plt.tight_layout()\n",
    "plt.show()\n"
   ]
  },
  {
   "cell_type": "code",
   "execution_count": null,
   "id": "daaa5ff6",
   "metadata": {},
   "outputs": [],
   "source": [
    "\n",
    "# Daily overall attendance trend\n",
    "daily_trend = df.groupby('Date')['Status'].value_counts().unstack().fillna(0)\n",
    "daily_trend.plot(kind='line', figsize=(12,6), marker='o')\n",
    "plt.title(\"Daily Attendance Trend\")\n",
    "plt.ylabel(\"Number of Students\")\n",
    "plt.xlabel(\"Date\")\n",
    "plt.grid(True)\n",
    "plt.tight_layout()\n",
    "plt.show()\n"
   ]
  }
 ],
 "metadata": {},
 "nbformat": 4,
 "nbformat_minor": 5
}