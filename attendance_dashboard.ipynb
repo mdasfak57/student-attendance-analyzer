{
 "cells": [
  {
   "cell_type": "markdown",
   "id": "3239bd74",
   "metadata": {},
   "source": [
    "# 📊 Student Attendance Dashboard\n",
    "\n",
    "This notebook visualizes daily and monthly attendance patterns by class and highlights students with low attendance."
   ]
  },
  {
   "cell_type": "code",
   "execution_count": null,
   "id": "91c8b97c",
   "metadata": {},
   "outputs": [],
   "source": [
    "\n",
    "import pandas as pd\n",
    "import matplotlib.pyplot as plt\n",
    "import seaborn as sns\n",
    "\n",
    "# Load data\n",
    "df = pd.read_csv(\"attendance_data.csv\")\n",
    "df[\"Date\"] = pd.to_datetime(df[\"Date\"])\n",
    "df[\"Month\"] = df[\"Date\"].dt.to_period(\"M\")\n",
    "df.head()\n"
   ]
  },
  {
   "cell_type": "code",
   "execution_count": null,
   "id": "97d7c39a",
   "metadata": {},
   "outputs": [],
   "source": [
    "\n",
    "# Monthly attendance rate by class\n",
    "monthly_class_summary = df.groupby([\"Class\", \"Month\", \"Status\"]).size().unstack().fillna(0)\n",
    "monthly_class_summary[\"Attendance %\"] = (monthly_class_summary[\"Present\"] / (monthly_class_summary[\"Present\"] + monthly_class_summary[\"Absent\"])) * 100\n",
    "monthly_class_summary.reset_index(inplace=True)\n",
    "monthly_class_summary\n"
   ]
  },
  {
   "cell_type": "code",
   "execution_count": null,
   "id": "d4327106",
   "metadata": {},
   "outputs": [],
   "source": [
    "\n",
    "plt.figure(figsize=(10,6))\n",
    "sns.barplot(data=monthly_class_summary, x=\"Month\", y=\"Attendance %\", hue=\"Class\")\n",
    "plt.title(\"Monthly Attendance Rate by Class\")\n",
    "plt.ylabel(\"Attendance %\")\n",
    "plt.xlabel(\"Month\")\n",
    "plt.ylim(0, 100)\n",
    "plt.grid(True)\n",
    "plt.tight_layout()\n",
    "plt.show()\n"
   ]
  },
  {
   "cell_type": "code",
   "execution_count": null,
   "id": "74a283b8",
   "metadata": {},
   "outputs": [],
   "source": [
    "\n",
    "daily_class_trend = df.groupby([\"Date\", \"Class\", \"Status\"]).size().unstack().fillna(0).reset_index()\n",
    "\n",
    "plt.figure(figsize=(12,6))\n",
    "for class_name in df[\"Class\"].unique():\n",
    "    class_data = daily_class_trend[daily_class_trend[\"Class\"] == class_name]\n",
    "    plt.plot(class_data[\"Date\"], class_data[\"Present\"], label=f\"{class_name} - Present\")\n",
    "\n",
    "plt.title(\"Daily Attendance Trend by Class\")\n",
    "plt.xlabel(\"Date\")\n",
    "plt.ylabel(\"Number of Students Present\")\n",
    "plt.legend()\n",
    "plt.grid(True)\n",
    "plt.tight_layout()\n",
    "plt.show()\n"
   ]
  },
  {
   "cell_type": "code",
   "execution_count": null,
   "id": "474deafd",
   "metadata": {},
   "outputs": [],
   "source": [
    "\n",
    "# Calculate attendance % per student\n",
    "student_attendance = df.groupby([\"Student_ID\", \"Name\", \"Class\", \"Month\", \"Status\"]).size().unstack().fillna(0)\n",
    "student_attendance[\"Attendance %\"] = (student_attendance[\"Present\"] / (student_attendance[\"Present\"] + student_attendance[\"Absent\"])) * 100\n",
    "low_attendance = student_attendance[student_attendance[\"Attendance %\"] < 75].reset_index()\n",
    "low_attendance\n"
   ]
  }
 ],
 "metadata": {},
 "nbformat": 4,
 "nbformat_minor": 5
}
